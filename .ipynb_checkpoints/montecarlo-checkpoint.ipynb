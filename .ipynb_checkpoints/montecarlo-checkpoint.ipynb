{
 "cells": [
  {
   "cell_type": "code",
   "execution_count": 16,
   "id": "e05f31d4-cd16-4d4a-9189-f49a44478561",
   "metadata": {},
   "outputs": [],
   "source": [
    "import pandas as pd\n",
    "import pandas_datareader as pdr\n",
    "import yfinance as yf\n",
    "import numpy as np\n",
    "import matplotlib.pyplot as plt\n",
    "import datetime as dt"
   ]
  },
  {
   "cell_type": "code",
   "execution_count": 22,
   "id": "8bd29565-7c4a-4509-9213-edb220cf5cb9",
   "metadata": {},
   "outputs": [],
   "source": [
    "def get_data(stocks, start_date, end_date):\n",
    "    stock_data = yf.download(stocks, start_date, end_date)\n",
    "    closing_prices = stock_data[\"Close\"]\n",
    "    returns = closing_prices.pct_change()\n",
    "    mean_of_returns = returns.mean()\n",
    "    # print(stock_data)\n",
    "    cov_of_returns = returns.cov(stock_data[\"Date\"])\n",
    "    return mean_of_returns, cov_of_returns"
   ]
  },
  {
   "cell_type": "code",
   "execution_count": 26,
   "id": "b5f5802d-f84b-4f78-afe6-087cea9e3293",
   "metadata": {
    "scrolled": true
   },
   "outputs": [
    {
     "name": "stdout",
     "output_type": "stream",
     "text": [
      "[*********************100%%**********************]  1 of 1 completed\n",
      "                  Open        High         Low       Close   Adj Close  \\\n",
      "Date                                                                     \n",
      "2022-11-15  152.220001  153.589996  148.559998  150.039993  149.206009   \n",
      "2022-11-16  149.130005  149.869995  147.289993  148.789993  147.962952   \n",
      "2022-11-17  146.429993  151.479996  146.149994  150.720001  149.882217   \n",
      "2022-11-18  152.309998  152.699997  149.970001  151.289993  150.449051   \n",
      "2022-11-21  150.160004  150.369995  147.720001  148.009995  147.187302   \n",
      "...                ...         ...         ...         ...         ...   \n",
      "2023-12-14  198.020004  199.619995  196.160004  198.110001  198.110001   \n",
      "2023-12-15  197.529999  198.399994  197.000000  197.570007  197.570007   \n",
      "2023-12-18  196.089996  196.630005  194.389999  195.889999  195.889999   \n",
      "2023-12-19  196.160004  196.949997  195.889999  196.940002  196.940002   \n",
      "2023-12-20  196.899994  197.679993  194.830002  194.830002  194.830002   \n",
      "\n",
      "               Volume  \n",
      "Date                   \n",
      "2022-11-15   89868300  \n",
      "2022-11-16   64218300  \n",
      "2022-11-17   80389400  \n",
      "2022-11-18   74829600  \n",
      "2022-11-21   58724100  \n",
      "...               ...  \n",
      "2023-12-14   66831600  \n",
      "2023-12-15  128256700  \n",
      "2023-12-18   55751900  \n",
      "2023-12-19   40714100  \n",
      "2023-12-20   50955991  \n",
      "\n",
      "[276 rows x 6 columns]\n"
     ]
    },
    {
     "ename": "TypeError",
     "evalue": "Series.cov() missing 1 required positional argument: 'other'",
     "output_type": "error",
     "traceback": [
      "\u001b[0;31m---------------------------------------------------------------------------\u001b[0m",
      "\u001b[0;31mTypeError\u001b[0m                                 Traceback (most recent call last)",
      "Cell \u001b[0;32mIn[26], line 6\u001b[0m\n\u001b[1;32m      3\u001b[0m end_date \u001b[38;5;241m=\u001b[39m dt\u001b[38;5;241m.\u001b[39mdatetime\u001b[38;5;241m.\u001b[39mnow()\n\u001b[1;32m      4\u001b[0m start_date \u001b[38;5;241m=\u001b[39m end_date \u001b[38;5;241m-\u001b[39m dt\u001b[38;5;241m.\u001b[39mtimedelta(days\u001b[38;5;241m=\u001b[39m\u001b[38;5;241m400\u001b[39m)\n\u001b[0;32m----> 6\u001b[0m mean_returns, cov_returns \u001b[38;5;241m=\u001b[39m \u001b[43mget_data\u001b[49m\u001b[43m(\u001b[49m\u001b[43mstocks\u001b[49m\u001b[43m,\u001b[49m\u001b[43m \u001b[49m\u001b[43mstart_date\u001b[49m\u001b[43m,\u001b[49m\u001b[43m \u001b[49m\u001b[43mend_date\u001b[49m\u001b[43m)\u001b[49m\n",
      "Cell \u001b[0;32mIn[22], line 7\u001b[0m, in \u001b[0;36mget_data\u001b[0;34m(stocks, start_date, end_date)\u001b[0m\n\u001b[1;32m      5\u001b[0m mean_of_returns \u001b[38;5;241m=\u001b[39m returns\u001b[38;5;241m.\u001b[39mmean()\n\u001b[1;32m      6\u001b[0m \u001b[38;5;28mprint\u001b[39m(stock_data)\n\u001b[0;32m----> 7\u001b[0m cov_of_returns \u001b[38;5;241m=\u001b[39m \u001b[43mreturns\u001b[49m\u001b[38;5;241;43m.\u001b[39;49m\u001b[43mcov\u001b[49m\u001b[43m(\u001b[49m\u001b[43m)\u001b[49m\n\u001b[1;32m      8\u001b[0m \u001b[38;5;28;01mreturn\u001b[39;00m mean_of_returns, cov_of_returns\n",
      "\u001b[0;31mTypeError\u001b[0m: Series.cov() missing 1 required positional argument: 'other'"
     ]
    }
   ],
   "source": [
    "stock_names = [\"AAPL\"]\n",
    "stocks = [stock for stock in stock_names]\n",
    "end_date = dt.datetime.now()\n",
    "start_date = end_date - dt.timedelta(days=400)\n",
    "\n",
    "mean_returns, cov_returns = get_data(stocks, start_date, end_date)"
   ]
  },
  {
   "cell_type": "code",
   "execution_count": null,
   "id": "37e688b3-87e4-488a-bd58-6b2f6df5d234",
   "metadata": {},
   "outputs": [],
   "source": []
  },
  {
   "cell_type": "code",
   "execution_count": null,
   "id": "c8d8af4d-671d-4529-8b3d-c99747ff605b",
   "metadata": {},
   "outputs": [],
   "source": []
  }
 ],
 "metadata": {
  "kernelspec": {
   "display_name": "Python 3 (ipykernel)",
   "language": "python",
   "name": "python3"
  },
  "language_info": {
   "codemirror_mode": {
    "name": "ipython",
    "version": 3
   },
   "file_extension": ".py",
   "mimetype": "text/x-python",
   "name": "python",
   "nbconvert_exporter": "python",
   "pygments_lexer": "ipython3",
   "version": "3.10.12"
  }
 },
 "nbformat": 4,
 "nbformat_minor": 5
}
